{
 "cells": [
  {
   "cell_type": "markdown",
   "metadata": {},
   "source": [
    "# 1. Calculate Area of a Circle"
   ]
  },
  {
   "cell_type": "code",
   "execution_count": 2,
   "metadata": {},
   "outputs": [
    {
     "name": "stdout",
     "output_type": "stream",
     "text": [
      "Enter radius: 0.5\n",
      "Area of the circle with the 0.5  is: 0.7857142857142857\n"
     ]
    }
   ],
   "source": [
    "rad = float(input(\"Enter radius: \"))\n",
    "pi = 22 / 7\n",
    "area = pi * rad ** 2\n",
    "\n",
    "print('Area of the circle with the',rad,'is:',area,)"
   ]
  },
  {
   "cell_type": "markdown",
   "metadata": {},
   "source": [
    "# 2. Check Number either positive, negative or zero"
   ]
  },
  {
   "cell_type": "code",
   "execution_count": 3,
   "metadata": {},
   "outputs": [
    {
     "name": "stdout",
     "output_type": "stream",
     "text": [
      "Enter a number-1\n",
      "Negative Number Entered\n"
     ]
    }
   ],
   "source": [
    "# CONSOLE = 1\n",
    "\n",
    "num = int(input(\"Enter a number\"))\n",
    "\n",
    "if num == 0:\n",
    "    print(\"Zeor\")\n",
    "elif num <= -1:\n",
    "    print(\"Negative Number Entered\")\n",
    "elif num >= 1:\n",
    "    print(\"Positive Number Entered\")\n",
    "else:\n",
    "    print('Invalid input')"
   ]
  },
  {
   "cell_type": "code",
   "execution_count": 4,
   "metadata": {},
   "outputs": [
    {
     "name": "stdout",
     "output_type": "stream",
     "text": [
      "Enter a number3\n",
      "Positive Number Entered\n"
     ]
    }
   ],
   "source": [
    "# CONSOLE = 2\n",
    "\n",
    "num = int(input(\"Enter a number\"))\n",
    "\n",
    "if num == 0:\n",
    "    print(\"Zeor\")\n",
    "elif num <= -1:\n",
    "    print(\"Negative Number Entered\")\n",
    "elif num >= 1:\n",
    "    print(\"Positive Number Entered\")"
   ]
  },
  {
   "cell_type": "code",
   "execution_count": 5,
   "metadata": {},
   "outputs": [
    {
     "name": "stdout",
     "output_type": "stream",
     "text": [
      "Enter a number0\n",
      "Zeor\n"
     ]
    }
   ],
   "source": [
    "# CONSLOE = 3\n",
    "\n",
    "num = int(input(\"Enter a number\"))\n",
    "\n",
    "if num == 0:\n",
    "    print(\"Zeor\")\n",
    "elif num <= -1:\n",
    "    print(\"Negative Number Entered\")\n",
    "elif num >= 1:\n",
    "    print(\"Positive Number Entered\")"
   ]
  },
  {
   "cell_type": "markdown",
   "metadata": {},
   "source": [
    "# 3. Divisibility Check of two numbers"
   ]
  },
  {
   "cell_type": "code",
   "execution_count": 6,
   "metadata": {},
   "outputs": [
    {
     "name": "stdout",
     "output_type": "stream",
     "text": [
      "Enter a numerator: 4\n",
      "Enter a dinominator: 2\n",
      "Number  4  is completly  divisible by  2\n"
     ]
    }
   ],
   "source": [
    "# CONSOLE 1\n",
    "\n",
    "num_tor = int(input(\"Enter a numerator: \"))\n",
    "din_tor = int(input(\"Enter a dinominator: \"))\n",
    "\n",
    "if num_tor % din_tor == 0 :\n",
    "    print('Number ',num_tor,' is completly  divisible by ',din_tor)\n",
    "else:\n",
    "      print('Number ',num_tor,' is not completly divisible by ',din_tor)"
   ]
  },
  {
   "cell_type": "code",
   "execution_count": 7,
   "metadata": {},
   "outputs": [
    {
     "name": "stdout",
     "output_type": "stream",
     "text": [
      "Enter a numerator: 7\n",
      "Enter a dinominator: 4\n",
      "Number  7  is not completly divisible by  4\n"
     ]
    }
   ],
   "source": [
    "# CONSOLE 2\n",
    "\n",
    "num_tor = int(input(\"Enter a numerator: \"))\n",
    "din_tor = int(input(\"Enter a dinominator: \"))\n",
    "\n",
    "if num_tor % din_tor == 0 :\n",
    "    print('Number ',num_tor,' is completly  divisible by ',din_tor)\n",
    "else:\n",
    "      print('Number ',num_tor,' is not completly divisible by ',din_tor)\n"
   ]
  },
  {
   "cell_type": "markdown",
   "metadata": {},
   "source": [
    "# 4. Days Calculator"
   ]
  },
  {
   "cell_type": "code",
   "execution_count": 1,
   "metadata": {},
   "outputs": [
    {
     "name": "stdout",
     "output_type": "stream",
     "text": [
      "Enter a date in (dd/mm/yy) format: 12/12/2018\n",
      "Enter a date in (dd/mm/yy) format: 16/12/2018\n",
      "There are 4 days in between 12/12/2018 and 16/12/2018\n"
     ]
    }
   ],
   "source": [
    "from datetime import datetime\n",
    "farmat = '%d/%m/%Y'\n",
    "\n",
    "f = input(\"Enter a date in (dd/mm/yy) format: \")\n",
    "l = input(\"Enter a date in (dd/mm/yy) format: \")\n",
    "\n",
    "x = datetime.strptime(f, farmat)\n",
    "y = datetime.strptime(l, farmat)\n",
    "\n",
    "delta = y - x\n",
    "\n",
    "print(\"There are\",delta.days,'days in between',f,'and',l)"
   ]
  },
  {
   "cell_type": "markdown",
   "metadata": {},
   "source": [
    "# 5. Calculate Volume of a sphere"
   ]
  },
  {
   "cell_type": "code",
   "execution_count": 3,
   "metadata": {},
   "outputs": [
    {
     "name": "stdout",
     "output_type": "stream",
     "text": [
      "Enter the radius of the sphere: 1\n",
      "The volume of the sphere is:  4.19047619047619\n"
     ]
    }
   ],
   "source": [
    "r = int(input(\"Enter the radius of the sphere: \"))\n",
    "pi = 22 / 7\n",
    "\n",
    "V = (4 / 3) * pi * r**3\n",
    "\n",
    "print('The volume of the sphere is: ',V)"
   ]
  },
  {
   "cell_type": "markdown",
   "metadata": {},
   "source": [
    "# 6. Copy string n times"
   ]
  },
  {
   "cell_type": "code",
   "execution_count": 1,
   "metadata": {},
   "outputs": [
    {
     "name": "stdout",
     "output_type": "stream",
     "text": [
      "Enter stringHI\n",
      "How many copies of String you need: 4\n",
      "HIHIHIHI\n"
     ]
    }
   ],
   "source": [
    "string = str(input(\"Enter string\"))\n",
    "num = int(input(\"How many copies of String you need: \"))\n",
    "\n",
    "som = string * num\n",
    "print(som)"
   ]
  },
  {
   "cell_type": "markdown",
   "metadata": {},
   "source": [
    "# 7. Check if number is Even or Odd"
   ]
  },
  {
   "cell_type": "code",
   "execution_count": 4,
   "metadata": {},
   "outputs": [
    {
     "name": "stdout",
     "output_type": "stream",
     "text": [
      "Enter Number4\n",
      "4 is Even\n"
     ]
    }
   ],
   "source": [
    "# CONSOLE 1\n",
    "\n",
    "num = int(input('Enter Number'))\n",
    "\n",
    "if num % 2 == 0:\n",
    "    print(num,\"is Even\")\n",
    "else:\n",
    "    print(num,'is Odd')"
   ]
  },
  {
   "cell_type": "code",
   "execution_count": 5,
   "metadata": {},
   "outputs": [
    {
     "name": "stdout",
     "output_type": "stream",
     "text": [
      "Enter Number9\n",
      "9 is Odd\n"
     ]
    }
   ],
   "source": [
    "# CONSOLE 2\n",
    "\n",
    "num = int(input('Enter Number'))\n",
    "\n",
    "if num % 2 == 0:\n",
    "    print(num,\"is Even\")\n",
    "else:\n",
    "    print(num,'is Odd')"
   ]
  },
  {
   "cell_type": "markdown",
   "metadata": {},
   "source": [
    "# 8. Vowel Tester"
   ]
  },
  {
   "cell_type": "code",
   "execution_count": 8,
   "metadata": {},
   "outputs": [
    {
     "name": "stdout",
     "output_type": "stream",
     "text": [
      "Enter an Alphabatsa\n",
      "Letter  a is Vowel\n"
     ]
    }
   ],
   "source": [
    "# CONSOLE 1\n",
    "\n",
    "xyz = str(input(\"Enter an Alphabats \"))\n",
    "\n",
    "if xyz == chr(65) or xyz == chr(69) or xyz == chr(73) or xyz == chr(79) or xyz == chr(85) or xyz == chr(97) or xyz == chr(101) or xyz == chr(105) or xyz == chr(111) or xyz == chr(117):\n",
    "    print('Letter ',xyz,'is Vowel')\n",
    "else:\n",
    "    print('Letter',xyz,'is not Vowel')"
   ]
  },
  {
   "cell_type": "code",
   "execution_count": 9,
   "metadata": {},
   "outputs": [
    {
     "name": "stdout",
     "output_type": "stream",
     "text": [
      "Enter an AlphabatsE\n",
      "Letter  E is Vowel\n"
     ]
    }
   ],
   "source": [
    "# CONSOLE 2\n",
    "\n",
    "xyz = str(input(\"Enter an Alphabats \"))\n",
    "\n",
    "if xyz == chr(65) or xyz == chr(69) or xyz == chr(73) or xyz == chr(79) or xyz == chr(85) or xyz == chr(97) or xyz == chr(101) or xyz == chr(105) or xyz == chr(111) or xyz == chr(117):\n",
    "    print('Letter ',xyz,'is Vowel')\n",
    "else:\n",
    "    print('Letter',xyz,'is not Vowel')"
   ]
  },
  {
   "cell_type": "code",
   "execution_count": 31,
   "metadata": {},
   "outputs": [
    {
     "name": "stdout",
     "output_type": "stream",
     "text": [
      "Enter an Alphabats N\n",
      "Letter N is not Vowel\n"
     ]
    }
   ],
   "source": [
    "# CONSOLE 3\n",
    "\n",
    "xyz = str(input(\"Enter an Alphabats \"))\n",
    "\n",
    "if xyz == chr(65) or xyz == chr(69) or xyz == chr(73) or xyz == chr(79) or xyz == chr(85) or xyz == chr(97) or xyz == chr(101) or xyz == chr(105) or xyz == chr(111) or xyz == chr(117):\n",
    "    print('Letter ',xyz,'is Vowel')\n",
    "else:\n",
    "    print('Letter',xyz,'is not Vowel')"
   ]
  },
  {
   "cell_type": "markdown",
   "metadata": {},
   "source": [
    "# 9. Triangle area"
   ]
  },
  {
   "cell_type": "code",
   "execution_count": 11,
   "metadata": {},
   "outputs": [
    {
     "name": "stdout",
     "output_type": "stream",
     "text": [
      "Enter magnitude of Triangle base: 4\n",
      "Enter magnitude of Triangle hight: 4\n",
      "Area of triangle is  8.0\n"
     ]
    }
   ],
   "source": [
    "A = int(input(\"Enter magnitude of Triangle base: \"))\n",
    "B = int(input(\"Enter magnitude of Triangle hight: \"))\n",
    "\n",
    "area = 0.5 * A * B\n",
    "\n",
    "print(\"Area of triangle is \",area)"
   ]
  },
  {
   "cell_type": "markdown",
   "metadata": {},
   "source": [
    "# 10. Calculate Interest"
   ]
  },
  {
   "cell_type": "code",
   "execution_count": 16,
   "metadata": {},
   "outputs": [
    {
     "name": "stdout",
     "output_type": "stream",
     "text": [
      "Enter principle value: 10000\n",
      "Enter numbers of years for investment: 5\n",
      "Enter rate of interest in %: 0.1\n",
      "After  5 year your principal amount 10000.0 over an interest rate of  0.1 will be:  16105.1\n"
     ]
    }
   ],
   "source": [
    "P = float(input(\"Enter principle value: \"))\n",
    "Time = int(input(\"Enter numbers of years for investment: \"))\n",
    "rate = float(input(\"Enter rate of interest in %: \"))\n",
    "\n",
    "d = 0\n",
    "e = P * rate * 10\n",
    "while d < Time:\n",
    "    e += e * rate\n",
    "    d += 1\n",
    "\n",
    "print('After',Time,'year your principal amount',P,'over an interest rate of ',rate,'will be: ',e)"
   ]
  },
  {
   "cell_type": "markdown",
   "metadata": {},
   "source": [
    "# 11. Euclidean distance"
   ]
  },
  {
   "cell_type": "code",
   "execution_count": 17,
   "metadata": {},
   "outputs": [
    {
     "name": "stdout",
     "output_type": "stream",
     "text": [
      "Enter value of x1: 2\n",
      "Enter value of y1: 4\n",
      "Enter value of x2: 4\n",
      "Enter value of y2: 4\n",
      "The distance between two points ( 2 , 4 ) and ( 4 , 4 ) is:  2.0\n"
     ]
    }
   ],
   "source": [
    "x1 = int(input(\"Enter value of x1: \"))\n",
    "y1 = int(input(\"Enter value of y1: \"))\n",
    "x2 = int(input(\"Enter value of x2: \"))\n",
    "y2 = int(input(\"Enter value of y2: \"))\n",
    "\n",
    "d = ((x2 - x1)**2 + (y2 - y1)**2)**0.5\n",
    "\n",
    "print('The distance between two points (',x1,',',y1,') and (',x2,',',y2,') is: ',d )"
   ]
  },
  {
   "cell_type": "markdown",
   "metadata": {},
   "source": [
    "# 12. Feet to Centimeter Converter"
   ]
  },
  {
   "cell_type": "code",
   "execution_count": 18,
   "metadata": {},
   "outputs": [
    {
     "name": "stdout",
     "output_type": "stream",
     "text": [
      "Enter hight in feet5\n",
      "There are 152.4 Cm in 5 ft.\n"
     ]
    }
   ],
   "source": [
    "num = int(input(\"Enter hight in feet\"))\n",
    "\n",
    "cm = num * 30.48\n",
    "\n",
    "print('There are',cm,'Cm in',num,'ft.')"
   ]
  },
  {
   "cell_type": "markdown",
   "metadata": {},
   "source": [
    "# 13. BMI Calculator"
   ]
  },
  {
   "cell_type": "code",
   "execution_count": 19,
   "metadata": {},
   "outputs": [
    {
     "name": "stdout",
     "output_type": "stream",
     "text": [
      "Enter weight in Kg: 75\n",
      "Enter hight in Cm: 180\n",
      "Your BMI is 23.148148148148145\n"
     ]
    }
   ],
   "source": [
    "w_kg = float(input(\"Enter weight in Kg: \"))\n",
    "h_cm = float(input('Enter hight in Cm: '))\n",
    "\n",
    "h_m = h_cm / 100\n",
    "bmi = w_kg / h_m**2\n",
    "\n",
    "print('Your BMI is',bmi)"
   ]
  },
  {
   "cell_type": "markdown",
   "metadata": {},
   "source": [
    "# 14. Sum of n Positive Integers"
   ]
  },
  {
   "cell_type": "code",
   "execution_count": 20,
   "metadata": {},
   "outputs": [
    {
     "name": "stdout",
     "output_type": "stream",
     "text": [
      "Enter value of n: 5\n",
      "Sum of n Positive integers till 5 is 15.0\n"
     ]
    }
   ],
   "source": [
    "num = int(input(\"Enter value of n: \"))\n",
    "s_num = ((num * (num + 1)) / 2 )\n",
    "\n",
    "print('Sum of n Positive integers till',num,'is',s_num)"
   ]
  },
  {
   "cell_type": "markdown",
   "metadata": {},
   "source": [
    "# 15. Digits Sum of a Number"
   ]
  },
  {
   "cell_type": "code",
   "execution_count": 21,
   "metadata": {},
   "outputs": [
    {
     "name": "stdout",
     "output_type": "stream",
     "text": [
      "Enter a number: 15\n",
      "Sum of digit is: 6\n"
     ]
    }
   ],
   "source": [
    "# CONSOLE 1\n",
    "\n",
    "num = int(input(\"Enter a number: \"))\n",
    "res = 0\n",
    "\n",
    "while num > 0:\n",
    "    digit = num % 10\n",
    "    res = res + digit\n",
    "    num = num // 10\n",
    "\n",
    "print(\"Sum of digit is:\",res)"
   ]
  },
  {
   "cell_type": "code",
   "execution_count": 22,
   "metadata": {},
   "outputs": [
    {
     "name": "stdout",
     "output_type": "stream",
     "text": [
      "Enter a number: 1234\n",
      "Sum of digit is: 10\n"
     ]
    }
   ],
   "source": [
    "# CONSOLE 2\n",
    "\n",
    "num = int(input(\"Enter a number: \"))\n",
    "res = 0\n",
    "\n",
    "while num > 0:\n",
    "    digit = num % 10\n",
    "    res = res + digit\n",
    "    num = num // 10\n",
    "\n",
    "print(\"Sum of digit is:\",res)"
   ]
  },
  {
   "cell_type": "markdown",
   "metadata": {},
   "source": [
    "# 16. Decimal to Binary Converter"
   ]
  },
  {
   "cell_type": "code",
   "execution_count": 23,
   "metadata": {},
   "outputs": [
    {
     "name": "stdout",
     "output_type": "stream",
     "text": [
      "Enter a number in decimal5\n",
      "Binary Representation of 5 is 101\n"
     ]
    }
   ],
   "source": [
    "# CONSOLE 1\n",
    "\n",
    "num = int(input(\"Enter a number in decimal\"))\n",
    "\n",
    "bi = bin(num)\n",
    "\n",
    "print('Binary Representation of',num,'is',bi[2:])"
   ]
  },
  {
   "cell_type": "code",
   "execution_count": 24,
   "metadata": {},
   "outputs": [
    {
     "name": "stdout",
     "output_type": "stream",
     "text": [
      "Enter a number in decimal32\n",
      "Binary Representation of 32 is 100000\n"
     ]
    }
   ],
   "source": [
    "# CONSOLE 2\n",
    "\n",
    "num = int(input(\"Enter a number in decimal\"))\n",
    "\n",
    "bi = bin(num)\n",
    "\n",
    "print('Binary Representation of',num,'is',bi[2:])"
   ]
  },
  {
   "cell_type": "markdown",
   "metadata": {},
   "source": [
    "# 17. Binary to Decimal Converter"
   ]
  },
  {
   "cell_type": "code",
   "execution_count": 25,
   "metadata": {},
   "outputs": [
    {
     "name": "stdout",
     "output_type": "stream",
     "text": [
      "Enter number in binary form: 1101\n",
      "Decimal Representation of 1101 is 13\n"
     ]
    }
   ],
   "source": [
    "# CONSOLE 1\n",
    "\n",
    "num = input('Enter number in binary form: ')\n",
    "\n",
    "deci = int(num, 2)\n",
    "\n",
    "print('Decimal Representation of',num,'is',deci)"
   ]
  },
  {
   "cell_type": "code",
   "execution_count": 26,
   "metadata": {},
   "outputs": [
    {
     "name": "stdout",
     "output_type": "stream",
     "text": [
      "Enter number in binary form: 1001\n",
      "Decimal Representation of 1001 is 9\n"
     ]
    }
   ],
   "source": [
    "# CONSOLE 2\n",
    "\n",
    "num = input('Enter number in binary form: ')\n",
    "\n",
    "deci = int(num, 2)\n",
    "\n",
    "print('Decimal Representation of',num,'is',deci)"
   ]
  },
  {
   "cell_type": "markdown",
   "metadata": {},
   "source": [
    "# 18. Vowel and Consonants Counter"
   ]
  },
  {
   "cell_type": "code",
   "execution_count": 27,
   "metadata": {},
   "outputs": [
    {
     "name": "stdout",
     "output_type": "stream",
     "text": [
      "Enter text: QuickBrownFoxJumpsovertheDog\n",
      "Vowels: 9\n",
      "Consonants: 19\n"
     ]
    }
   ],
   "source": [
    "text = input(\"Enter text: \")\n",
    "vov = 0\n",
    "cons = 0\n",
    "\n",
    "for i in text:\n",
    "    if(i == 'a' or i == 'e' or i == 'i' or i == 'o' or i == 'u' or i == 'A' or i == 'E' or i == 'I' or i == 'O' or i == 'U'):\n",
    "        vov = vov + 1\n",
    "    else:\n",
    "        cons = cons + 1\n",
    "\n",
    "print(\"Vowels:\",vov)\n",
    "print(\"Consonants:\",cons)"
   ]
  },
  {
   "cell_type": "markdown",
   "metadata": {},
   "source": [
    "# 19. Palindrome tester"
   ]
  },
  {
   "cell_type": "code",
   "execution_count": 28,
   "metadata": {},
   "outputs": [
    {
     "name": "stdout",
     "output_type": "stream",
     "text": [
      "Enter Text: AHA\n",
      "Text aha is Palindrome\n"
     ]
    }
   ],
   "source": [
    "# CONSOLE 1\n",
    "\n",
    "txt = input(\"Enter Text: \")\n",
    "txt = txt.casefold()\n",
    "rev_txt = reversed(txt)\n",
    "\n",
    "if list(txt) == list(rev_txt):\n",
    "    print('Text',txt,'is Palindrome')\n",
    "else:\n",
    "    print('Text',txt,'is not Palindrome')"
   ]
  },
  {
   "cell_type": "code",
   "execution_count": 29,
   "metadata": {},
   "outputs": [
    {
     "name": "stdout",
     "output_type": "stream",
     "text": [
      "Enter Text: Hello\n",
      "Text hello is not Palindrome\n"
     ]
    }
   ],
   "source": [
    "# CONSOLE 2\n",
    "\n",
    "txt = input(\"Enter Text: \")\n",
    "txt = txt.casefold()\n",
    "rev_txt = reversed(txt)\n",
    "\n",
    "if list(txt) == list(rev_txt):\n",
    "    print('Text',txt,'is Palindrome')\n",
    "else:\n",
    "    print('Text',txt,'is not Palindrome')"
   ]
  },
  {
   "cell_type": "markdown",
   "metadata": {},
   "source": [
    "# 20. Count Alphabets, Numbers and Special Characters"
   ]
  },
  {
   "cell_type": "code",
   "execution_count": 41,
   "metadata": {},
   "outputs": [
    {
     "name": "stdout",
     "output_type": "stream",
     "text": [
      "Enter text: Python 3.2\n",
      "alphabats: 6\n",
      "numbers: 2\n",
      "sepcial: 1\n",
      "space: 1\n"
     ]
    }
   ],
   "source": [
    "txt = input(\"Enter text: \")\n",
    "alpa = num = spc = spe = 0\n",
    "\n",
    "for e in range(len(txt)):\n",
    "    if (txt[e].isalpha()):\n",
    "        alpa = alpa + 1\n",
    "    elif (txt[e].isdigit()):\n",
    "        num = num + 1\n",
    "    elif (txt[e] == \" \"):\n",
    "        spc = spc + 1\n",
    "    else:\n",
    "        spe = spe + 1\n",
    "    \n",
    "print('alphabats:',alpa)\n",
    "print('numbers:',num)\n",
    "print('sepcial:',spe)\n",
    "print('space:',spc)"
   ]
  },
  {
   "cell_type": "markdown",
   "metadata": {},
   "source": [
    "# 21. Python program to construct the following pattern"
   ]
  },
  {
   "cell_type": "code",
   "execution_count": 25,
   "metadata": {},
   "outputs": [
    {
     "name": "stdout",
     "output_type": "stream",
     "text": [
      "Enter the numbers of raws: 5\n",
      "* \n",
      "* * \n",
      "* * * \n",
      "* * * * \n",
      "* * * * * \n",
      "* * * * \n",
      "* * * \n",
      "* * \n",
      "* \n"
     ]
    }
   ],
   "source": [
    "n = int(input('Enter the numbers of raws: '))\n",
    "\n",
    "for i in range(1, n+1):\n",
    "    for e in range(1, i+1):\n",
    "        print('*', end=' ')\n",
    "    print()\n",
    "\n",
    "for a in range(n-1, 0, -1):\n",
    "    for b in range(a, 0, -1):\n",
    "        print('*', end=' ')\n",
    "    print()"
   ]
  },
  {
   "cell_type": "markdown",
   "metadata": {},
   "source": [
    "# 22. Python program to construct the following pattern"
   ]
  },
  {
   "cell_type": "code",
   "execution_count": 40,
   "metadata": {},
   "outputs": [
    {
     "name": "stdout",
     "output_type": "stream",
     "text": [
      "Enter numbers of raws: 5\n",
      "1\n",
      "12\n",
      "123\n",
      "1234\n",
      "12345\n",
      "1234\n",
      "123\n",
      "12\n",
      "1\n"
     ]
    }
   ],
   "source": [
    "num = int(input('Enter numbers of raws: '))\n",
    "\n",
    "for e in range(1, num+1):\n",
    "    for i in range(1, e+1):\n",
    "        print(i, end='')\n",
    "    print()\n",
    "    \n",
    "for a in range(num-1, 0, -1):\n",
    "    for b in range(1, a+1):\n",
    "        print(b, end='')\n",
    "    print()"
   ]
  },
  {
   "cell_type": "code",
   "execution_count": null,
   "metadata": {},
   "outputs": [],
   "source": []
  },
  {
   "cell_type": "markdown",
   "metadata": {},
   "source": [
    "# 23. Python program to construct the following pattern"
   ]
  },
  {
   "cell_type": "code",
   "execution_count": 16,
   "metadata": {},
   "outputs": [
    {
     "name": "stdout",
     "output_type": "stream",
     "text": [
      "Enter the number of raws: 9\n",
      "1\n",
      "22\n",
      "333\n",
      "4444\n",
      "55555\n",
      "666666\n",
      "7777777\n",
      "88888888\n",
      "999999999\n"
     ]
    }
   ],
   "source": [
    "num = int(input('Enter the number of raws: '))\n",
    "\n",
    "for e in range(1, num+1):\n",
    "    for i in range(1, e+1):\n",
    "        print(e, end=\"\")\n",
    "        \n",
    "    print()"
   ]
  },
  {
   "cell_type": "code",
   "execution_count": null,
   "metadata": {},
   "outputs": [],
   "source": []
  },
  {
   "cell_type": "code",
   "execution_count": null,
   "metadata": {},
   "outputs": [],
   "source": []
  },
  {
   "cell_type": "code",
   "execution_count": null,
   "metadata": {},
   "outputs": [],
   "source": []
  }
 ],
 "metadata": {
  "kernelspec": {
   "display_name": "Python 3",
   "language": "python",
   "name": "python3"
  },
  "language_info": {
   "codemirror_mode": {
    "name": "ipython",
    "version": 3
   },
   "file_extension": ".py",
   "mimetype": "text/x-python",
   "name": "python",
   "nbconvert_exporter": "python",
   "pygments_lexer": "ipython3",
   "version": "3.7.3"
  }
 },
 "nbformat": 4,
 "nbformat_minor": 2
}
